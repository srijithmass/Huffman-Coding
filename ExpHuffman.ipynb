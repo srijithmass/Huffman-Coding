{
 "cells": [
  {
   "cell_type": "code",
   "execution_count": 1,
   "id": "a41ed504",
   "metadata": {},
   "outputs": [],
   "source": [
    "string = \"212221240054 SRIJITH R\"\n",
    "class node_tree(object):\n",
    "    def __init__(self,left=None,right=None):\n",
    "        self.left = left\n",
    "        self.right=right\n",
    "    def children(self):\n",
    "        return(self.left,self.right)\n",
    "\n",
    "def huffman_code_tree(node,left=True,binString=''):\n",
    "    if type(node) is str:\n",
    "        return {node:binString}\n",
    "    (l,r) = node.children()\n",
    "    d=dict()\n",
    "    d.update(huffman_code_tree(l,True,binString+'0'))\n",
    "    d.update(huffman_code_tree(r,False,binString+'1'))\n",
    "    return d"
   ]
  },
  {
   "cell_type": "code",
   "execution_count": 2,
   "id": "83faecd3",
   "metadata": {},
   "outputs": [],
   "source": [
    "freq = {}\n",
    "for c in string:\n",
    "    if c in freq:\n",
    "        freq[c] += 1\n",
    "    else:\n",
    "        freq[c] = 1\n",
    "freq = sorted(freq.items(), key=lambda x: x[1], reverse=True)\n",
    "nodes=freq"
   ]
  },
  {
   "cell_type": "code",
   "execution_count": 3,
   "id": "736c16ab",
   "metadata": {},
   "outputs": [],
   "source": [
    "while len(nodes) > 1:\n",
    "    (key1,c1)=nodes[-1]\n",
    "    (key2,c2)=nodes[-2]\n",
    "    nodes=nodes[:-2]\n",
    "    node = node_tree(key1,key2)\n",
    "    nodes.append((node,c1+c2))\n",
    "    nodes = sorted(nodes,key=lambda x: x[1],reverse = True)"
   ]
  },
  {
   "cell_type": "code",
   "execution_count": 4,
   "id": "e14c9c41",
   "metadata": {},
   "outputs": [
    {
     "name": "stdout",
     "output_type": "stream",
     "text": [
      " Char | Huffman code \n",
      "---------------------\n",
      " '2'  |          10\n",
      " '1'  |         010\n",
      " '4'  |        1101\n",
      " '0'  |        1100\n",
      " ' '  |        1111\n",
      " 'R'  |        1110\n",
      " 'I'  |         001\n",
      " '5'  |        0110\n",
      " 'S'  |       01111\n",
      " 'J'  |       01110\n",
      " 'T'  |        0001\n",
      " 'H'  |        0000\n"
     ]
    }
   ],
   "source": [
    "huffcode=huffman_code_tree(nodes[0][0])\n",
    "\n",
    "print(' Char | Huffman code ')\n",
    "print('---------------------')\n",
    "for (char,frequency)in freq:\n",
    "    print(' %-4r |%12s'%(char,huffcode[char]))"
   ]
  },
  {
   "cell_type": "code",
   "execution_count": null,
   "id": "465098ef",
   "metadata": {},
   "outputs": [],
   "source": []
  }
 ],
 "metadata": {
  "kernelspec": {
   "display_name": "Python 3 (ipykernel)",
   "language": "python",
   "name": "python3"
  },
  "language_info": {
   "codemirror_mode": {
    "name": "ipython",
    "version": 3
   },
   "file_extension": ".py",
   "mimetype": "text/x-python",
   "name": "python",
   "nbconvert_exporter": "python",
   "pygments_lexer": "ipython3",
   "version": "3.10.10"
  }
 },
 "nbformat": 4,
 "nbformat_minor": 5
}
